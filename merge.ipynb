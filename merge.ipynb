{
 "cells": [
  {
   "cell_type": "code",
   "execution_count": 86,
   "metadata": {
    "collapsed": false
   },
   "outputs": [
    {
     "name": "stdout",
     "output_type": "stream",
     "text": [
      "   rule  vega   ddelta\n",
      "0   NaN  1000  1000000\n",
      "1   SPY  1500  2000000\n",
      "2  !DFT  2000  1200000\n",
      "3  GOOG  1000  2000000\n",
      "    sym  rule\n",
      "0   IBM  !DFT\n",
      "1   SPY  !DFT\n",
      "2  GOOG  !DFT\n",
      "3  AAPL  !DFT\n",
      "4   JPM  !DFT\n",
      "   rule  vega   ddelta   sym\n",
      "0   NaN  1000  1000000   NaN\n",
      "1   SPY  1500  2000000   NaN\n",
      "2  !DFT  2000  1200000   IBM\n",
      "3  !DFT  2000  1200000   SPY\n",
      "4  !DFT  2000  1200000  GOOG\n",
      "5  !DFT  2000  1200000  AAPL\n",
      "6  !DFT  2000  1200000   JPM\n",
      "7  GOOG  1000  2000000   NaN\n",
      "   rule  vega   ddelta   sym\n",
      "0   NaN  1000  1000000   NaN\n",
      "1   SPY  1500  2000000   SPY\n",
      "2  !DFT  2000  1200000   IBM\n",
      "3  !DFT  2000  1200000   SPY\n",
      "4  !DFT  2000  1200000  GOOG\n",
      "5  !DFT  2000  1200000  AAPL\n",
      "6  !DFT  2000  1200000   JPM\n",
      "7  GOOG  1000  2000000  GOOG\n",
      "   rule  vega   ddelta   sym\n",
      "0  !DFT  2000  1200000  AAPL\n",
      "1  GOOG  1000  2000000  GOOG\n",
      "2  !DFT  2000  1200000   IBM\n",
      "3  !DFT  2000  1200000   JPM\n",
      "4   SPY  1500  2000000   SPY\n"
     ]
    }
   ],
   "source": [
    "import pandas as pd\n",
    "import numpy as np\n",
    "\n",
    "limits = pd.DataFrame({'rule': [np.nan, 'SPY', '!DFT', 'GOOG'], 'vega': [1000, 1500, 2000, 1000], \n",
    "                       'ddelta': [1000000, 2000000, 1200000, 2000000]}, columns=['rule', 'vega', 'ddelta'])\n",
    "print(limits)\n",
    "symbols = pd.DataFrame({'sym': ['IBM', 'SPY', 'GOOG', 'AAPL', 'JPM']})\n",
    "symbols['rule'] = '!DFT'\n",
    "print(symbols)\n",
    "df = pd.merge(limits, symbols, on='rule', how='outer')\n",
    "print(df)\n",
    "df['sym'] = df.apply(lambda x: x.rule if pd.isnull(x.sym) else x.sym, axis=1)\n",
    "print(df)\n",
    "firmRules = df[pd.isnull(df.sym)]\n",
    "symRules = df.groupby('sym').apply(lambda x: x if len(x) == 1 else x[x.rule != '!DFT'])\n",
    "symRules.reset_index(drop=True, inplace=True)\n",
    "print(symRules)\n",
    "print\n"
   ]
  },
  {
   "cell_type": "code",
   "execution_count": null,
   "metadata": {
    "collapsed": true
   },
   "outputs": [],
   "source": []
  },
  {
   "cell_type": "code",
   "execution_count": null,
   "metadata": {
    "collapsed": true
   },
   "outputs": [],
   "source": []
  },
  {
   "cell_type": "code",
   "execution_count": null,
   "metadata": {
    "collapsed": true
   },
   "outputs": [],
   "source": []
  }
 ],
 "metadata": {
  "kernelspec": {
   "display_name": "Python 3",
   "language": "python",
   "name": "python3"
  },
  "language_info": {
   "codemirror_mode": {
    "name": "ipython",
    "version": 3
   },
   "file_extension": ".py",
   "mimetype": "text/x-python",
   "name": "python",
   "nbconvert_exporter": "python",
   "pygments_lexer": "ipython3",
   "version": "3.5.2"
  }
 },
 "nbformat": 4,
 "nbformat_minor": 0
}
