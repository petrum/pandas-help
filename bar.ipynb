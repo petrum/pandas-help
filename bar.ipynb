{
 "cells": [
  {
   "cell_type": "code",
   "execution_count": 58,
   "metadata": {
    "collapsed": false
   },
   "outputs": [
    {
     "name": "stdout",
     "output_type": "stream",
     "text": [
      "   bot  sld  total\n",
      "A    1    5      6\n",
      "B    3    0      3\n",
      "C    5    7     12\n",
      "D    7    0      7\n",
      "  index  bot  sld  total\n",
      "0     C    5    7     12\n",
      "1     D    7    0      7\n",
      "2     A    1    5      6\n",
      "3     B    3    0      3\n"
     ]
    },
    {
     "data": {
      "text/plain": [
       "<matplotlib.text.Text at 0x7f104ff21dd8>"
      ]
     },
     "execution_count": 58,
     "metadata": {},
     "output_type": "execute_result"
    },
    {
     "data": {
      "image/png": "[encoded data removed]",
      "text/plain": [
       "<matplotlib.figure.Figure at 0x7f10547ccda0>"
      ]
     },
     "metadata": {},
     "output_type": "display_data"
    }
   ],
   "source": [
    "%matplotlib inline\n",
    "import matplotlib.pyplot as plt\n",
    "import pandas as pd\n",
    "\n",
    "bot = pd.Series([1, 3, 5, 7], index=['A', 'B', 'C', 'D'], name='bot')\n",
    "sld = pd.Series([5, 7], index=['A', 'C'], name='sld')\n",
    "d = pd.concat([bot, sld], axis=1).fillna(0)\n",
    "d['total'] = d.bot + d.sld\n",
    "print(d)\n",
    "d.sort_values('total', inplace=True, ascending=False)\n",
    "d.reset_index(inplace=True)\n",
    "print(d)\n",
    "width = 0.35\n",
    "bot = plt.bar(d.index, d['bot'], width, color='b')\n",
    "sld = plt.bar(d.index, d['sld'], width, color='r', bottom=d['bot'])\n",
    "plt.xticks(d.index + width / 2., d['index'])\n",
    "plt.legend((bot[0], sld[0]), ('Bought', 'Sold'))\n",
    "plt.title('Traded notional by strategy')\n",
    "plt.ylabel('Notional')\n",
    "plt.ylabel('Notional')"
   ]
  },
  {
   "cell_type": "code",
   "execution_count": 41,
   "metadata": {
    "collapsed": false
   },
   "outputs": [
    {
     "data": {
      "image/png": "[encoded data removed]",
      "text/plain": [
       "<matplotlib.figure.Figure at 0x7f1078347080>"
      ]
     },
     "metadata": {},
     "output_type": "display_data"
    }
   ],
   "source": [
    "import numpy as np\n",
    "import matplotlib.pyplot as plt\n",
    "\n",
    "\n",
    "N = 5\n",
    "menMeans = (20, 35, 30, 35, 27)\n",
    "womenMeans = (25, 32, 34, 20, 25)\n",
    "menStd = (2, 3, 4, 1, 2)\n",
    "womenStd = (3, 5, 2, 3, 3)\n",
    "ind = np.arange(N)    # the x locations for the groups\n",
    "width = 0.35       # the width of the bars: can also be len(x) sequence\n",
    "\n",
    "p1 = plt.bar(ind, menMeans, width, color='r', yerr=menStd)\n",
    "p2 = plt.bar(ind, womenMeans, width, color='y',\n",
    "             bottom=menMeans, yerr=womenStd)\n",
    "\n",
    "plt.ylabel('Scores')\n",
    "plt.title('Scores by group and gender')\n",
    "plt.xticks(ind + width/2., ('G1', 'G2', 'G3', 'G4', 'G5'))\n",
    "plt.yticks(np.arange(0, 81, 10))\n",
    "plt.legend((p1[0], p2[0]), ('Men', 'Women'))\n",
    "\n",
    "plt.show()\n"
   ]
  }
 ],
 "metadata": {
  "kernelspec": {
   "display_name": "Python 3",
   "language": "python",
   "name": "python3"
  },
  "language_info": {
   "codemirror_mode": {
    "name": "ipython",
    "version": 3
   },
   "file_extension": ".py",
   "mimetype": "text/x-python",
   "name": "python",
   "nbconvert_exporter": "python",
   "pygments_lexer": "ipython3",
   "version": "3.5.2"
  }
 },
 "nbformat": 4,
 "nbformat_minor": 0
}
