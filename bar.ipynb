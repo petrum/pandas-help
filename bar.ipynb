{
 "cells": [
  {
   "cell_type": "code",
   "execution_count": 12,
   "metadata": {
    "collapsed": false
   },
   "outputs": [
    {
     "name": "stdout",
     "output_type": "stream",
     "text": [
      "    Bot  Sld  SS\n",
      "S1   10    8   9\n",
      "S2   20   20  17\n",
      "S3   15   15  22\n"
     ]
    },
    {
     "data": {
      "image/png": "[encoded data removed]",
      "text/plain": [
       "<matplotlib.figure.Figure at 0x7f385f016320>"
      ]
     },
     "metadata": {},
     "output_type": "display_data"
    },
    {
     "data": {
      "image/png": "[encoded data removed]",
      "text/plain": [
       "<matplotlib.figure.Figure at 0x7f385ed60198>"
      ]
     },
     "metadata": {},
     "output_type": "display_data"
    }
   ],
   "source": [
    "%matplotlib inline\n",
    "import matplotlib.pyplot as plt\n",
    "import pandas as pd\n",
    "from matplotlib.pyplot import cm\n",
    "import numpy as np\n",
    "\n",
    "df = pd.DataFrame({'Bot': [10, 20, 15], 'Sld': [8, 20, 15], 'SS': [9, 17,22]}, \n",
    "                  index=['S1', 'S2', 'S3'], columns=['Bot', 'Sld', 'SS'])\n",
    "print(df)\n",
    "df.plot(kind='bar', stacked=True, rot=1, color=['r', 'g', 'b'])\n",
    "plt.show()\n",
    "\n",
    "def stacked_bar(df):\n",
    "    totals = df.cumsum(axis=1)\n",
    "    firstCol = df.ix[:, 0]\n",
    "    bottoms = totals.shift(axis=1).fillna(0)\n",
    "    index = df.index\n",
    "    df.reset_index(drop=True, inplace=True)\n",
    "    color = iter(cm.rainbow(np.linspace(0, 1, 10)))\n",
    "    width = 0.4\n",
    "    plots = [plt.bar(df.index, df[c], width, bottom=bottoms[c], color=next(color)) for c in df.columns]\n",
    "    plt.xticks(df.index + width / 2., index)\n",
    "    plt.legend((p[0] for p in plots), df.columns, loc='best')\n",
    "    #plt.title('Title')\n",
    "    #plt.ylabel('Y label')\n",
    "    #plt.xlabel('X label')\n",
    "  \n",
    "stacked_bar(df)\n"
   ]
  }
 ],
 "metadata": {
  "kernelspec": {
   "display_name": "Python 3",
   "language": "python",
   "name": "python3"
  },
  "language_info": {
   "codemirror_mode": {
    "name": "ipython",
    "version": 3
   },
   "file_extension": ".py",
   "mimetype": "text/x-python",
   "name": "python",
   "nbconvert_exporter": "python",
   "pygments_lexer": "ipython3",
   "version": "3.5.2"
  }
 },
 "nbformat": 4,
 "nbformat_minor": 0
}
