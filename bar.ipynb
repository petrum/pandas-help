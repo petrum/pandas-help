{
 "cells": [
  {
   "cell_type": "code",
   "execution_count": 61,
   "metadata": {
    "collapsed": false
   },
   "outputs": [
    {
     "name": "stdout",
     "output_type": "stream",
     "text": [
      "  index  bot  sld  total\n",
      "0     C    5    7     12\n",
      "1     D    7    0      7\n",
      "2     A    1    5      6\n",
      "3     B    3    0      3\n"
     ]
    },
    {
     "data": {
      "text/plain": [
       "<matplotlib.text.Text at 0x7f104f92b4a8>"
      ]
     },
     "execution_count": 61,
     "metadata": {},
     "output_type": "execute_result"
    },
    {
     "data": {
      "image/png": "[encoded data removed]",
      "text/plain": [
       "<matplotlib.figure.Figure at 0x7f104f95c780>"
      ]
     },
     "metadata": {},
     "output_type": "display_data"
    }
   ],
   "source": [
    "%matplotlib inline\n",
    "import matplotlib.pyplot as plt\n",
    "import pandas as pd\n",
    "\n",
    "bot = pd.Series([1, 3, 5, 7], index=['A', 'B', 'C', 'D'], name='bot')\n",
    "sld = pd.Series([5, 7], index=['A', 'C'], name='sld')\n",
    "\n",
    "d = pd.concat([bot, sld], axis=1).fillna(0)\n",
    "d['total'] = d.bot + d.sld\n",
    "d.sort_values('total', inplace=True, ascending=False)\n",
    "d.reset_index(inplace=True)\n",
    "print(d)\n",
    "width = 0.35\n",
    "bot = plt.bar(d.index, d['bot'], width, color='b')\n",
    "sld = plt.bar(d.index, d['sld'], width, color='r', bottom=d['bot'])\n",
    "plt.xticks(d.index + width / 2., d['index'])\n",
    "plt.legend((bot[0], sld[0]), ('Bought', 'Sold'))\n",
    "plt.title('Traded notional by strategy')\n",
    "plt.ylabel('Notional')\n",
    "plt.xlabel('Strategy')"
   ]
  },
  {
   "cell_type": "code",
   "execution_count": null,
   "metadata": {
    "collapsed": false
   },
   "outputs": [],
   "source": []
  }
 ],
 "metadata": {
  "kernelspec": {
   "display_name": "Python 3",
   "language": "python",
   "name": "python3"
  },
  "language_info": {
   "codemirror_mode": {
    "name": "ipython",
    "version": 3
   },
   "file_extension": ".py",
   "mimetype": "text/x-python",
   "name": "python",
   "nbconvert_exporter": "python",
   "pygments_lexer": "ipython3",
   "version": "3.5.2"
  }
 },
 "nbformat": 4,
 "nbformat_minor": 0
}
