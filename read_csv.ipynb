{
 "cells": [
  {
   "cell_type": "code",
   "execution_count": 5,
   "metadata": {
    "collapsed": false,
    "scrolled": true
   },
   "outputs": [
    {
     "name": "stdout",
     "output_type": "stream",
     "text": [
      "100 loops, best of 3: 6.94 ms per loop\n",
      "1000 loops, best of 3: 1.31 ms per loop\n"
     ]
    }
   ],
   "source": [
    "import pandas as pd\n",
    "import os\n",
    "from collections import deque\n",
    "#pd.set_option('display.expand_frame_repr', False)\n",
    "#pd.options.display.max_rows = 10\n",
    "\n",
    "def read_last1(f, n):\n",
    "    f = os.popen(\"tail -n {1} {0}\".format(f, n))\n",
    "    return pd.read_csv(f, header=None, names=[0, 1, 'subject', 'attachments', 'email'], parse_dates={'dt': [0, 1]}, date_parser=lambda d, t: pd.datetime.strptime(d + ' ' + t, '%Y/%m/%d %H:%M:%S'))\n",
    "\n",
    "def read_last2(f, n):\n",
    "    return pd.read_csv(tail(f, n), header=None, names=[0, 1, 'subject', 'attachments', 'email'], parse_dates={'dt': [0, 1]}, date_parser=lambda d, t: pd.datetime.strptime(d + ' ' + t, '%Y/%m/%d %H:%M:%S'))\n",
    "\n",
    "def tail(fName, n):\n",
    "    CHUNK_SIZE = 1024\n",
    "    f = open(fName, 'r')\n",
    "    LEN = f.seek(0, os.SEEK_END)\n",
    "    pos = LEN - CHUNK_SIZE\n",
    "    lines = 0\n",
    "    while pos >= 0:\n",
    "        f.seek(pos, os.SEEK_SET)\n",
    "        s = f.read(CHUNK_SIZE)\n",
    "        #print('lines = {0}, read chunk'.format(lines))\n",
    "        lines += s.count('\\n')\n",
    "        if lines <= n:\n",
    "            pos -= CHUNK_SIZE\n",
    "        else:\n",
    "            i = 0\n",
    "            extra = lines - n\n",
    "            for x in range(extra):\n",
    "                i = s.find('\\n', i + 1)\n",
    "            #print('n = {4}: found lines = {0}, extra = {1}, i = {2}, pos = {3}'.format(lines, extra, i, pos, n))\n",
    "            f.seek(pos + i, os.SEEK_SET)\n",
    "            return f\n",
    "    #print('too few lines, return START')\n",
    "    f.seek(0, os.SEEK_BEGIN)\n",
    "    return f\n",
    "\n",
    "%timeit d1 = read_last1('/home/petrum/doc/emails2.csv', 10)\n",
    "%timeit d2 = read_last2('/home/petrum/doc/emails2.csv', 10)\n",
    "#(d1.dt == d2.dt).all()\n",
    "\n",
    "#for i in range(2000):\n",
    "#    d1 = read_last1('/home/petrum/doc/emails2.csv', i + 1)\n",
    "#    d2 = read_last2('/home/petrum/doc/emails2.csv', i + 1)\n",
    "#    if not (d1.dt == d2.dt).all():\n",
    "#        print(i)\n",
    "#        break\n"
   ]
  },
  {
   "cell_type": "code",
   "execution_count": null,
   "metadata": {
    "collapsed": true
   },
   "outputs": [],
   "source": []
  },
  {
   "cell_type": "code",
   "execution_count": null,
   "metadata": {
    "collapsed": true
   },
   "outputs": [],
   "source": []
  }
 ],
 "metadata": {
  "kernelspec": {
   "display_name": "Python 3",
   "language": "python",
   "name": "python3"
  },
  "language_info": {
   "codemirror_mode": {
    "name": "ipython",
    "version": 3
   },
   "file_extension": ".py",
   "mimetype": "text/x-python",
   "name": "python",
   "nbconvert_exporter": "python",
   "pygments_lexer": "ipython3",
   "version": "3.5.2"
  }
 },
 "nbformat": 4,
 "nbformat_minor": 0
}
