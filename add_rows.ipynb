{
 "cells": [
  {
   "cell_type": "code",
   "execution_count": 2,
   "metadata": {},
   "outputs": [
    {
     "name": "stdout",
     "output_type": "stream",
     "text": [
      "age        9\n",
      "name    Zed1\n",
      "Name: abc, dtype: object\n"
     ]
    },
    {
     "data": {
      "text/html": [
       "<div>\n",
       "<style scoped>\n",
       "    .dataframe tbody tr th:only-of-type {\n",
       "        vertical-align: middle;\n",
       "    }\n",
       "\n",
       "    .dataframe tbody tr th {\n",
       "        vertical-align: top;\n",
       "    }\n",
       "\n",
       "    .dataframe thead th {\n",
       "        text-align: right;\n",
       "    }\n",
       "</style>\n",
       "<table border=\"1\" class=\"dataframe\">\n",
       "  <thead>\n",
       "    <tr style=\"text-align: right;\">\n",
       "      <th></th>\n",
       "      <th>age</th>\n",
       "      <th>name</th>\n",
       "      <th>height</th>\n",
       "    </tr>\n",
       "  </thead>\n",
       "  <tbody>\n",
       "    <tr>\n",
       "      <th>0</th>\n",
       "      <td>9.0</td>\n",
       "      <td>Zed1</td>\n",
       "      <td>NaN</td>\n",
       "    </tr>\n",
       "    <tr>\n",
       "      <th>1</th>\n",
       "      <td>9.0</td>\n",
       "      <td>Zed2</td>\n",
       "      <td>2.0</td>\n",
       "    </tr>\n",
       "    <tr>\n",
       "      <th>2</th>\n",
       "      <td>NaN</td>\n",
       "      <td>Zed3</td>\n",
       "      <td>2.0</td>\n",
       "    </tr>\n",
       "  </tbody>\n",
       "</table>\n",
       "</div>"
      ],
      "text/plain": [
       "   age  name  height\n",
       "0  9.0  Zed1     NaN\n",
       "1  9.0  Zed2     2.0\n",
       "2  NaN  Zed3     2.0"
      ]
     },
     "execution_count": 2,
     "metadata": {},
     "output_type": "execute_result"
    }
   ],
   "source": [
    "import pandas as pd\n",
    "df = pd.DataFrame()\n",
    "s1 = pd.Series({'name': 'Zed1', 'age': 9}, name='abc')\n",
    "print(s1)\n",
    "df = df.append(s1, ignore_index=False)\n",
    "\n",
    "df = df.append({'name': 'Zed2', 'age': 9, 'height': 2}, ignore_index=True)\n",
    "\n",
    "df = df.append(pd.Series({'name': 'Zed3', 'height': 2}), ignore_index=True)\n",
    "df"
   ]
  },
  {
   "cell_type": "code",
   "execution_count": 3,
   "metadata": {},
   "outputs": [
    {
     "name": "stdout",
     "output_type": "stream",
     "text": [
      "    c1  c2\n",
      "i1  a1  b1\n",
      "    c1  c2\n",
      "i1  a2  b2\n",
      "    c1   c2\n",
      "i1  a3  NaN\n",
      "Empty DataFrame\n",
      "Columns: [c1, c2]\n",
      "Index: []\n"
     ]
    }
   ],
   "source": [
    "df = pd.DataFrame(columns = ['c1', 'c2'])\n",
    "df.loc['i1'] = ['a1', 'b1'] # add\n",
    "print(df)\n",
    "df.loc['i1'] = ['a2', 'b2'] # positional update\n",
    "print(df)\n",
    "df.loc['i1'] = {'c1': 'a3'} # incomplete update, puts Nan for missing\n",
    "print(df)\n",
    "df.drop('i1', inplace=True)\n",
    "print(df)"
   ]
  },
  {
   "cell_type": "code",
   "execution_count": 4,
   "metadata": {},
   "outputs": [
    {
     "name": "stdout",
     "output_type": "stream",
     "text": [
      "       c1   c2\n",
      "a  b          \n",
      "i1 i2  a1  NaN\n",
      "       c1  c2\n",
      "a  b         \n",
      "i1 i2  a1  a2\n",
      "       c1  c2\n",
      "a  b         \n",
      "i1 i2  a3  b3\n",
      "        c1  c2\n",
      "a  b          \n",
      "i1 i2  NaN  a3\n",
      "Empty DataFrame\n",
      "Columns: [c1, c2]\n",
      "Index: []\n"
     ]
    }
   ],
   "source": [
    "df = pd.DataFrame(columns = ['a', 'b', 'c1', 'c2'])\n",
    "df.set_index(['a', 'b'], inplace=True)\n",
    "df.loc[('i1', 'i2'), 'c1'] = 'a1'\n",
    "print(df)\n",
    "df.loc[('i1', 'i2'), 'c1':'c2'] = ['a1', 'a2']\n",
    "print(df)\n",
    "df.loc[('i1', 'i2'), ['c1', 'c2']] = ['a3', 'b3']\n",
    "print(df)\n",
    "df.loc[('i1', 'i2')] = {'c2': 'a3'} # incomplete update, puts Nan for missing\n",
    "print(df)\n",
    "df.drop(('i1', 'i2'), inplace=True)\n",
    "print(df)"
   ]
  },
  {
   "cell_type": "code",
   "execution_count": null,
   "metadata": {},
   "outputs": [],
   "source": []
  }
 ],
 "metadata": {
  "kernelspec": {
   "display_name": "Python 3",
   "language": "python",
   "name": "python3"
  },
  "language_info": {
   "codemirror_mode": {
    "name": "ipython",
    "version": 3
   },
   "file_extension": ".py",
   "mimetype": "text/x-python",
   "name": "python",
   "nbconvert_exporter": "python",
   "pygments_lexer": "ipython3",
   "version": "3.6.6"
  }
 },
 "nbformat": 4,
 "nbformat_minor": 1
}
