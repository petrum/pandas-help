{
 "cells": [
  {
   "cell_type": "code",
   "execution_count": 47,
   "metadata": {
    "collapsed": false
   },
   "outputs": [
    {
     "name": "stdout",
     "output_type": "stream",
     "text": [
      "                                 usage\n",
      "time                                  \n",
      "2016-12-11 20:27:12.289060040  2743117\n",
      "2016-12-11 20:32:14.878170533  2743126\n",
      "2016-12-11 20:33:15.043069533  2743132\n",
      "2016-12-11 20:34:15.759697388  2743132\n",
      "2016-12-11 20:36:17.195340174  2743135\n",
      "2016-12-11 20:38:14.467751875  2743138\n",
      "2016-12-11 20:39:13.684691698  2743138\n",
      "2016-12-11 20:40:16.902307418  2743144\n",
      "2016-12-11 20:42:16.838388625  2743144\n",
      "2016-12-11 20:45:16.048321866  2743153\n",
      "2016-12-11 20:46:18.213112892  2743153\n",
      "2016-12-11 20:48:16.648216116  2743158\n",
      "2016-12-11 20:49:18.866586969  2743158\n",
      "2016-12-11 20:50:17.030929519  2743158\n",
      "2016-12-11 20:52:18.965152779  2743162\n",
      "2016-12-11 20:57:21.555408161  2743170\n",
      "2016-12-11 20:58:21.219818719  2743171\n",
      "2016-12-11 20:59:18.937334434  2743171\n",
      "2016-12-11 21:01:22.428228074  2743171\n",
      "2016-12-11 21:03:19.864970788  2743178\n",
      "                     usage  elapsed         sec     power\n",
      "time                                                     \n",
      "2016-12-11 20:15:00    NaN      NaT -9223372036       NaN\n",
      "2016-12-11 20:30:00     27 00:15:00         900  0.030000\n",
      "2016-12-11 20:45:00     27 00:15:00         900  0.030000\n",
      "2016-12-11 21:00:00     18 00:15:00         900  0.020000\n",
      "2016-12-11 21:15:00     29 00:15:00         900  0.032222\n"
     ]
    },
    {
     "data": {
      "text/plain": [
       "<matplotlib.axes._subplots.AxesSubplot at 0x7f74888ce898>"
      ]
     },
     "execution_count": 47,
     "metadata": {},
     "output_type": "execute_result"
    },
    {
     "data": {
      "image/png": "[encoded data removed]",
      "text/plain": [
       "<matplotlib.figure.Figure at 0x7f74887975c0>"
      ]
     },
     "metadata": {},
     "output_type": "display_data"
    }
   ],
   "source": [
    "%matplotlib inline\n",
    "import pandas as pd\n",
    "import numpy as np\n",
    "\n",
    "df = pd.read_csv('/home/petrum/doc/16rce.csv', parse_dates=[0], \\\n",
    "            date_parser=lambda x: pd.to_datetime(x.rpartition('-')[0]), \\\n",
    "            names=['time', 'id', 'usage'], usecols=[0, 3, 7], \\\n",
    "            index_col=1).ix[20183568].set_index('time')\n",
    "print(df.head(20))\n",
    "df = df.resample(rule='15min', how='last')\n",
    "\n",
    "#print(df.head())\n",
    "df = df.reset_index()\n",
    "\n",
    "df['elapsed'] = df['time']\n",
    "df = df.set_index('time')\n",
    "df = df.diff()\n",
    "df['sec'] = (df.elapsed.astype(np.int64) / 1000000000).astype(int)\n",
    "df['power'] = df.usage / df.sec\n",
    "df = df[df.usage != 0]\n",
    "print(df.head())\n",
    "df.drop(df.columns[[0, 1, 2]], axis=1, inplace=True)\n",
    "#@print(df)\n",
    "df.plot(kind='bar')\n"
   ]
  },
  {
   "cell_type": "code",
   "execution_count": null,
   "metadata": {
    "collapsed": true
   },
   "outputs": [],
   "source": []
  }
 ],
 "metadata": {
  "kernelspec": {
   "display_name": "Python 3",
   "language": "python",
   "name": "python3"
  },
  "language_info": {
   "codemirror_mode": {
    "name": "ipython",
    "version": 3
   },
   "file_extension": ".py",
   "mimetype": "text/x-python",
   "name": "python",
   "nbconvert_exporter": "python",
   "pygments_lexer": "ipython3",
   "version": "3.5.2"
  }
 },
 "nbformat": 4,
 "nbformat_minor": 0
}
