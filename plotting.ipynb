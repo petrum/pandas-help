{
 "cells": [
  {
   "cell_type": "code",
   "execution_count": null,
   "metadata": {
    "collapsed": false
   },
   "outputs": [
    {
     "name": "stdout",
     "output_type": "stream",
     "text": [
      "[-5, -4, -3, -2, -1, 0, 1, 2, 3, 4]\n",
      "-5    25\n",
      "-4    16\n",
      "-3     9\n",
      "-2     4\n",
      "-1     1\n",
      " 0     0\n",
      " 1     1\n",
      " 2     4\n",
      " 3     9\n",
      " 4    16\n",
      "dtype: int64\n"
     ]
    },
    {
     "data": {
      "image/png": "[encoded data removed]",
      "text/plain": [
       "<matplotlib.figure.Figure at 0x7fe62011ecc0>"
      ]
     },
     "metadata": {},
     "output_type": "display_data"
    }
   ],
   "source": [
    "#%matplotlib notebook\n",
    "%matplotlib inline\n",
    "import pandas as pd\n",
    "import matplotlib.pyplot as plt\n",
    "domain = list(range(-5, 5))\n",
    "print(domain)\n",
    "s = pd.Series([x * x for x in domain], index=domain)\n",
    "print(s)\n",
    "\n",
    "s.plot()\n",
    "plt.show()\n",
    "df = pd.DataFrame({'squared': [x * x for x in domain], 'cubed': [x * x * x for x in domain]}, index=domain)\n",
    "print(df)\n",
    "df.plot(subplots=True)\n",
    "#plt.show()"
   ]
  }
 ],
 "metadata": {
  "kernelspec": {
   "display_name": "Python 3",
   "language": "python",
   "name": "python3"
  },
  "language_info": {
   "codemirror_mode": {
    "name": "ipython",
    "version": 3
   },
   "file_extension": ".py",
   "mimetype": "text/x-python",
   "name": "python",
   "nbconvert_exporter": "python",
   "pygments_lexer": "ipython3",
   "version": "3.5.2"
  }
 },
 "nbformat": 4,
 "nbformat_minor": 0
}
